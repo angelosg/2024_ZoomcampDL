{
 "cells": [
  {
   "cell_type": "code",
   "execution_count": 1,
   "id": "e53ce4b7-09e3-416a-b998-e39faf55b162",
   "metadata": {},
   "outputs": [
    {
     "name": "stdout",
     "output_type": "stream",
     "text": [
      "Hello World from Codespaces\n"
     ]
    }
   ],
   "source": [
    "print('Hello World from Codespaces')"
   ]
  },
  {
   "cell_type": "code",
   "execution_count": null,
   "id": "fe0a3837-d043-450c-8378-18a86a0dd0ef",
   "metadata": {},
   "outputs": [],
   "source": []
  }
 ],
 "metadata": {
  "kernelspec": {
   "display_name": "Python 3 (ipykernel)",
   "language": "python",
   "name": "python3"
  },
  "language_info": {
   "codemirror_mode": {
    "name": "ipython",
    "version": 3
   },
   "file_extension": ".py",
   "mimetype": "text/x-python",
   "name": "python",
   "nbconvert_exporter": "python",
   "pygments_lexer": "ipython3",
   "version": "3.10.13"
  }
 },
 "nbformat": 4,
 "nbformat_minor": 5
}
